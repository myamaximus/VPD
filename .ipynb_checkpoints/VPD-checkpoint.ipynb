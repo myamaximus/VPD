{
 "cells": [
  {
   "cell_type": "code",
   "execution_count": 1,
   "metadata": {
    "collapsed": false
   },
   "outputs": [
    {
     "name": "stdout",
     "output_type": "stream",
     "text": [
      "Using matplotlib backend: Qt4Agg\n",
      "Populating the interactive namespace from numpy and matplotlib\n"
     ]
    }
   ],
   "source": [
    "import pandas as pd\n",
    "import numpy as np\n",
    "import matplotlib.pyplot as plt\n",
    "import utm\n",
    "from mpl_toolkits.basemap import Basemap\n",
    "%pylab"
   ]
  },
  {
   "cell_type": "code",
   "execution_count": 2,
   "metadata": {
    "collapsed": false
   },
   "outputs": [],
   "source": [
    "crime_data = pd.read_csv('crime_csv_all_years.csv')"
   ]
  },
  {
   "cell_type": "code",
   "execution_count": 3,
   "metadata": {
    "collapsed": false
   },
   "outputs": [
    {
     "data": {
      "text/html": [
       "<div>\n",
       "<table border=\"1\" class=\"dataframe\">\n",
       "  <thead>\n",
       "    <tr style=\"text-align: right;\">\n",
       "      <th></th>\n",
       "      <th>TYPE</th>\n",
       "      <th>YEAR</th>\n",
       "      <th>MONTH</th>\n",
       "      <th>HUNDRED_BLOCK</th>\n",
       "      <th>NEIGHBOURHOOD</th>\n",
       "      <th>N_HOOD</th>\n",
       "      <th>X</th>\n",
       "      <th>Y</th>\n",
       "    </tr>\n",
       "  </thead>\n",
       "  <tbody>\n",
       "    <tr>\n",
       "      <th>0</th>\n",
       "      <td>Theft from Vehicle</td>\n",
       "      <td>2003</td>\n",
       "      <td>4</td>\n",
       "      <td>10XX SEYMOUR ST</td>\n",
       "      <td>Central Business District</td>\n",
       "      <td>Central Business District</td>\n",
       "      <td>491045.788677</td>\n",
       "      <td>5458359.80103</td>\n",
       "    </tr>\n",
       "    <tr>\n",
       "      <th>1</th>\n",
       "      <td>Theft from Vehicle</td>\n",
       "      <td>2003</td>\n",
       "      <td>5</td>\n",
       "      <td>4XX E HASTINGS ST</td>\n",
       "      <td>Strathcona</td>\n",
       "      <td>Strathcona</td>\n",
       "      <td>493071.086668</td>\n",
       "      <td>5458733.17469</td>\n",
       "    </tr>\n",
       "    <tr>\n",
       "      <th>2</th>\n",
       "      <td>Theft from Vehicle</td>\n",
       "      <td>2003</td>\n",
       "      <td>7</td>\n",
       "      <td>23XX W 6TH AVE</td>\n",
       "      <td>Kitsilano</td>\n",
       "      <td>Kitsilano</td>\n",
       "      <td>488383.628754</td>\n",
       "      <td>5457100.10939</td>\n",
       "    </tr>\n",
       "    <tr>\n",
       "      <th>3</th>\n",
       "      <td>Theft from Vehicle</td>\n",
       "      <td>2003</td>\n",
       "      <td>3</td>\n",
       "      <td>4XX E HASTINGS ST</td>\n",
       "      <td>Strathcona</td>\n",
       "      <td>Strathcona</td>\n",
       "      <td>493071.086668</td>\n",
       "      <td>5458733.17469</td>\n",
       "    </tr>\n",
       "    <tr>\n",
       "      <th>4</th>\n",
       "      <td>Offence Against a Person</td>\n",
       "      <td>2003</td>\n",
       "      <td>8</td>\n",
       "      <td>OFFSET TO PROTECT PRIVACY</td>\n",
       "      <td>NaN</td>\n",
       "      <td>NaN</td>\n",
       "      <td>0.000000</td>\n",
       "      <td>0.00000</td>\n",
       "    </tr>\n",
       "    <tr>\n",
       "      <th>5</th>\n",
       "      <td>Mischief</td>\n",
       "      <td>2003</td>\n",
       "      <td>8</td>\n",
       "      <td>82XX HUDSON ST</td>\n",
       "      <td>Marpole</td>\n",
       "      <td>Marpole</td>\n",
       "      <td>490222.830017</td>\n",
       "      <td>5450936.50802</td>\n",
       "    </tr>\n",
       "    <tr>\n",
       "      <th>6</th>\n",
       "      <td>Theft from Vehicle</td>\n",
       "      <td>2003</td>\n",
       "      <td>7</td>\n",
       "      <td>4XX E HASTINGS ST</td>\n",
       "      <td>Strathcona</td>\n",
       "      <td>Strathcona</td>\n",
       "      <td>493068.169174</td>\n",
       "      <td>5458724.11381</td>\n",
       "    </tr>\n",
       "    <tr>\n",
       "      <th>7</th>\n",
       "      <td>Mischief</td>\n",
       "      <td>2003</td>\n",
       "      <td>1</td>\n",
       "      <td>17XX E 63RD AVE</td>\n",
       "      <td>Victoria-Fraserview</td>\n",
       "      <td>Victoria-Fraserview</td>\n",
       "      <td>494915.829445</td>\n",
       "      <td>5451115.36741</td>\n",
       "    </tr>\n",
       "    <tr>\n",
       "      <th>8</th>\n",
       "      <td>BNE Residential/Other</td>\n",
       "      <td>2003</td>\n",
       "      <td>6</td>\n",
       "      <td>28XX TRINITY ST</td>\n",
       "      <td>Hastings-Sunrise</td>\n",
       "      <td>Hastings-Sunrise</td>\n",
       "      <td>496766.329742</td>\n",
       "      <td>5459657.73665</td>\n",
       "    </tr>\n",
       "    <tr>\n",
       "      <th>9</th>\n",
       "      <td>Theft from Vehicle</td>\n",
       "      <td>2003</td>\n",
       "      <td>3</td>\n",
       "      <td>4XX E HASTINGS ST</td>\n",
       "      <td>Strathcona</td>\n",
       "      <td>Strathcona</td>\n",
       "      <td>493068.169174</td>\n",
       "      <td>5458724.11381</td>\n",
       "    </tr>\n",
       "  </tbody>\n",
       "</table>\n",
       "</div>"
      ],
      "text/plain": [
       "                       TYPE  YEAR  MONTH              HUNDRED_BLOCK  \\\n",
       "0        Theft from Vehicle  2003      4            10XX SEYMOUR ST   \n",
       "1        Theft from Vehicle  2003      5          4XX E HASTINGS ST   \n",
       "2        Theft from Vehicle  2003      7             23XX W 6TH AVE   \n",
       "3        Theft from Vehicle  2003      3          4XX E HASTINGS ST   \n",
       "4  Offence Against a Person  2003      8  OFFSET TO PROTECT PRIVACY   \n",
       "5                  Mischief  2003      8             82XX HUDSON ST   \n",
       "6        Theft from Vehicle  2003      7          4XX E HASTINGS ST   \n",
       "7                  Mischief  2003      1            17XX E 63RD AVE   \n",
       "8     BNE Residential/Other  2003      6            28XX TRINITY ST   \n",
       "9        Theft from Vehicle  2003      3          4XX E HASTINGS ST   \n",
       "\n",
       "               NEIGHBOURHOOD                     N_HOOD              X  \\\n",
       "0  Central Business District  Central Business District  491045.788677   \n",
       "1                 Strathcona                 Strathcona  493071.086668   \n",
       "2                  Kitsilano                  Kitsilano  488383.628754   \n",
       "3                 Strathcona                 Strathcona  493071.086668   \n",
       "4                        NaN                        NaN       0.000000   \n",
       "5                    Marpole                    Marpole  490222.830017   \n",
       "6                 Strathcona                 Strathcona  493068.169174   \n",
       "7        Victoria-Fraserview        Victoria-Fraserview  494915.829445   \n",
       "8           Hastings-Sunrise           Hastings-Sunrise  496766.329742   \n",
       "9                 Strathcona                 Strathcona  493068.169174   \n",
       "\n",
       "               Y  \n",
       "0  5458359.80103  \n",
       "1  5458733.17469  \n",
       "2  5457100.10939  \n",
       "3  5458733.17469  \n",
       "4        0.00000  \n",
       "5  5450936.50802  \n",
       "6  5458724.11381  \n",
       "7  5451115.36741  \n",
       "8  5459657.73665  \n",
       "9  5458724.11381  "
      ]
     },
     "execution_count": 3,
     "metadata": {},
     "output_type": "execute_result"
    }
   ],
   "source": [
    "crime_data[0:10]"
   ]
  },
  {
   "cell_type": "code",
   "execution_count": 4,
   "metadata": {
    "collapsed": false,
    "scrolled": true
   },
   "outputs": [],
   "source": [
    "# get coordinates of all crimes from the df\n",
    "crime_coords = crime_data[['X','Y']]"
   ]
  },
  {
   "cell_type": "code",
   "execution_count": 5,
   "metadata": {
    "collapsed": false
   },
   "outputs": [],
   "source": [
    "# remove zeros from coordinates\n",
    "crime_coords = crime_coords[(crime_data['X'] >0) & (crime_data['Y']>0)]"
   ]
  },
  {
   "cell_type": "code",
   "execution_count": 6,
   "metadata": {
    "collapsed": false
   },
   "outputs": [],
   "source": [
    "# make a list out of the coordinates\n",
    "x = crime_coords['X'].tolist()\n",
    "y = crime_coords['Y'].tolist()"
   ]
  },
  {
   "cell_type": "code",
   "execution_count": 7,
   "metadata": {
    "collapsed": false
   },
   "outputs": [],
   "source": [
    "# change to latitude and longitude\n",
    "latlon = [utm.to_latlon(xs, ys, 10, northern = True) for xs, ys in zip(x,y)]"
   ]
  },
  {
   "cell_type": "code",
   "execution_count": 8,
   "metadata": {
    "collapsed": false
   },
   "outputs": [],
   "source": [
    "crimeLon, crimeLat = zip(*latlon)"
   ]
  },
  {
   "cell_type": "code",
   "execution_count": 9,
   "metadata": {
    "collapsed": false
   },
   "outputs": [
    {
     "data": {
      "text/plain": [
       "(-123.2239549982749, 49.2008968420765, -123.02340179999538, 49.31334872713912)"
      ]
     },
     "execution_count": 9,
     "metadata": {},
     "output_type": "execute_result"
    }
   ],
   "source": [
    "# find the bounding box of the map\n",
    "min(crimeLat),min(crimeLon),max(crimeLat),max(crimeLon)"
   ]
  },
  {
   "cell_type": "code",
   "execution_count": 10,
   "metadata": {
    "collapsed": false
   },
   "outputs": [
    {
     "data": {
      "text/plain": [
       "<matplotlib.text.Text at 0x130f10b8>"
      ]
     },
     "execution_count": 10,
     "metadata": {},
     "output_type": "execute_result"
    }
   ],
   "source": [
    "fig1 = plt.figure(1)\n",
    "ax0 = plt.subplot2grid((2,5),(0,0),colspan=2,rowspan=2)\n",
    "\n",
    "map = Basemap(projection='merc', \n",
    "    resolution='f', area_thresh=0.05,  \n",
    "    llcrnrlon=-123.3, llcrnrlat=49.15,  \n",
    "    urcrnrlon=-123, urcrnrlat=49.35)\n",
    " \n",
    "#map.drawlsmask(land_color='burlywood', ocean_color='w', resolution='f', lakes=True)\n",
    "map.drawrivers(linewidth=1.0, color='0.8', antialiased=1)\n",
    "map.drawcoastlines()\n",
    "map.fillcontinents(color = 'burlywood')\n",
    "map.drawmapboundary()\n",
    "\n",
    "plt.show()\n",
    "title('All crime')"
   ]
  },
  {
   "cell_type": "code",
   "execution_count": 11,
   "metadata": {
    "collapsed": false
   },
   "outputs": [],
   "source": [
    "# VPD offsets all locations to protect privacy. This is my manual adjustment. Can do better with image registration later.\n",
    "cx, cy = map(crimeLat, crimeLon)\n",
    "yoffset = 229 \n",
    "cy = np.array(cy)+yoffset\n",
    "map.plot(cx, cy, 'b.',markersize = 5, alpha=0.01)\n",
    "plt.show()"
   ]
  },
  {
   "cell_type": "code",
   "execution_count": 12,
   "metadata": {
    "collapsed": true
   },
   "outputs": [],
   "source": [
    "ax1 = plt.subplot2grid((2,5),(0,2))\n",
    "ax2 = plt.subplot2grid((2,5),(0,3))\n",
    "ax3 = plt.subplot2grid((2,5),(0,4))\n",
    "ax4 = plt.subplot2grid((2,5),(1,2))\n",
    "ax5 = plt.subplot2grid((2,5),(1,3))\n",
    "ax6 = plt.subplot2grid((2,5),(1,4))"
   ]
  },
  {
   "cell_type": "code",
   "execution_count": 32,
   "metadata": {
    "collapsed": false
   },
   "outputs": [
    {
     "data": {
      "text/plain": [
       "array([2003, 2004, 2005, 2006, 2007, 2008, 2009, 2010, 2011, 2012, 2013,\n",
       "       2014, 2015, 2016], dtype=int64)"
      ]
     },
     "execution_count": 32,
     "metadata": {},
     "output_type": "execute_result"
    }
   ],
   "source": [
    "years =np.sort(pd.unique(crime_data.YEAR))\n",
    "years"
   ]
  },
  {
   "cell_type": "code",
   "execution_count": 30,
   "metadata": {
    "collapsed": false
   },
   "outputs": [
    {
     "data": {
      "text/plain": [
       "array(['Theft from Vehicle', 'Offence Against a Person', 'Mischief',\n",
       "       'BNE Residential/Other', 'Other Theft', 'BNE Commercial',\n",
       "       'Theft of Vehicle', 'Homicide'], dtype=object)"
      ]
     },
     "execution_count": 30,
     "metadata": {},
     "output_type": "execute_result"
    }
   ],
   "source": [
    "types = pd.unique(crime_data.TYPE)\n",
    "types"
   ]
  },
  {
   "cell_type": "code",
   "execution_count": 16,
   "metadata": {
    "collapsed": false
   },
   "outputs": [],
   "source": [
    "axlist = [ax1,ax2,ax3,ax4,ax5,ax6]\n",
    "\n",
    "# for each type of crime, create a heat map of the crime locations\n",
    "# for some reason they removed location data from assaults and homicides, so remove from mapped data\n",
    "# I know this data is available somewhere, so I will try to get it later on\n",
    "for counter, index in enumerate([0,2,3,4,5,6]):  \n",
    "    type = types[index]\n",
    "    \n",
    "    # new df of crimes of each type\n",
    "    sub_crime = crime_data[crime_data['TYPE']==type]\n",
    "    \n",
    "    # coordinates of the crime\n",
    "    crime_coords = sub_crime[['X','Y']]\n",
    "    \n",
    "    # remove zeros from coordinates\n",
    "    crime_coords = crime_coords[(crime_coords['X'] >0) & (crime_coords['Y']>0)]\n",
    "    \n",
    "    # make x,y coordinates into a list\n",
    "    x = crime_coords['X'].tolist()\n",
    "    y = crime_coords['Y'].tolist()\n",
    "\n",
    "    # plot histogram\n",
    "    #frame = plt.subplot(2,3,counter+1)\n",
    "    frame = axlist[counter]\n",
    "    plt.axes(frame)\n",
    "    \n",
    "    histplot = frame.hist2d(x, y, bins=100)\n",
    "    title(type)\n",
    "    xlim([484500,498000])\n",
    "    ylim([5450000,5462000])\n",
    " \n",
    "    frame.axes.xaxis.set_ticklabels([])\n",
    "    frame.axes.yaxis.set_ticklabels([])\n"
   ]
  },
  {
   "cell_type": "code",
   "execution_count": 18,
   "metadata": {
    "collapsed": false,
    "scrolled": true
   },
   "outputs": [],
   "source": [
    "grouped = crime_data.groupby(['TYPE'])\n",
    "grouped_types = grouped['YEAR'].value_counts()"
   ]
  },
  {
   "cell_type": "code",
   "execution_count": 19,
   "metadata": {
    "collapsed": false
   },
   "outputs": [],
   "source": [
    "# I realize this is inefficient, but I'm still not that familiar with pandas\n",
    "# remove the current year from the data because it is not complete yet\n",
    "all_data = years[:len(years)-1]\n",
    "for type in types:\n",
    "    data = grouped_types[type]\n",
    "    array_data = np.vstack((data.index.values,data.values)).T\n",
    "    array_data = array_data[array_data[:len(years)-1,0].argsort()]\n",
    "    all_data = np.vstack((all_data,array_data[:,1]))"
   ]
  },
  {
   "cell_type": "code",
   "execution_count": 20,
   "metadata": {
    "collapsed": false
   },
   "outputs": [
    {
     "data": {
      "text/plain": [
       "array([[16818,  3515,  6306,  6809, 12226,  3146,  6320,    18],\n",
       "       [17250,  3792,  5538,  6471, 12056,  3250,  6073,    22],\n",
       "       [15652,  3763,  5017,  5484, 12086,  2617,  5015,    22],\n",
       "       [13964,  4354,  5121,  5586, 11221,  2815,  3663,    17],\n",
       "       [11680,  4401,  4777,  4940, 10467,  2407,  3298,    19],\n",
       "       [10540,  4218,  5179,  4380, 10215,  2204,  2413,    18],\n",
       "       [ 9455,  3873,  4407,  3469, 10630,  1840,  1878,    18],\n",
       "       [ 8222,  3732,  4463,  3245, 10568,  1642,  1464,    10],\n",
       "       [ 7153,  3859,  4585,  3232, 10462,  1555,  1089,    15],\n",
       "       [ 7686,  3772,  4202,  3296, 11324,  1664,  1149,     8],\n",
       "       [ 8018,  3674,  4175,  3007, 11862,  1754,  1030,     6],\n",
       "       [ 9743,  3146,  4483,  3043, 12690,  2215,  1285,     9],\n",
       "       [10161,  3198,  4168,  3131, 13047,  2357,  1368,    14]], dtype=int64)"
      ]
     },
     "execution_count": 20,
     "metadata": {},
     "output_type": "execute_result"
    }
   ],
   "source": [
    "crime_totals = all_data[1:,:]\n",
    "crime_totals.T"
   ]
  },
  {
   "cell_type": "code",
   "execution_count": 21,
   "metadata": {
    "collapsed": false
   },
   "outputs": [
    {
     "data": {
      "text/plain": [
       "array(['Theft from Vehicle', 'Other Theft', 'BNE Residential/Other',\n",
       "       'Mischief', 'Theft of Vehicle', 'Offence Against a Person',\n",
       "       'BNE Commercial', 'Homicide'], dtype=object)"
      ]
     },
     "execution_count": 21,
     "metadata": {},
     "output_type": "execute_result"
    }
   ],
   "source": [
    "# order the data so that less frequent crimes will be at the top of the bar plot\n",
    "ind = [0,4,3,2,6,1,5,7]\n",
    "crime_totals = crime_totals[ind,:].T\n",
    "types = types[ind]\n",
    "types"
   ]
  },
  {
   "cell_type": "code",
   "execution_count": 23,
   "metadata": {
    "collapsed": false
   },
   "outputs": [],
   "source": [
    "import matplotlib.colors as colors\n",
    "import matplotlib.cm as cm"
   ]
  },
  {
   "cell_type": "code",
   "execution_count": 24,
   "metadata": {
    "collapsed": false
   },
   "outputs": [],
   "source": [
    "cmap = cm.jet\n",
    "c = cmap(linspace(0,1,len(types)))"
   ]
  },
  {
   "cell_type": "code",
   "execution_count": 25,
   "metadata": {
    "collapsed": false
   },
   "outputs": [
    {
     "data": {
      "text/plain": [
       "<matplotlib.legend.Legend at 0x10431ef0>"
      ]
     },
     "execution_count": 25,
     "metadata": {},
     "output_type": "execute_result"
    }
   ],
   "source": [
    "y = years[:len(years)-1]\n",
    "figure(2)\n",
    "width = 0.35\n",
    "ind = arange(len(years)-1)\n",
    "#c = ['b','r','g','m','c','k','b','r','g','m','c','k']\n",
    "plt.bar(ind, crime_totals[:,0], width, color=c[0,:]) #c[0,:]\n",
    "b = 0\n",
    "for itype in range(1,len(types)):\n",
    "    itype\n",
    "    b += crime_totals[:,itype-1]\n",
    "    plt.bar(ind, crime_totals[:,itype], width, color=c[itype,:], bottom=b) #[itype,:]\n",
    "\n",
    "plt.xlabel('Year')\n",
    "plt.ylabel('Crimes')\n",
    "plt.title('Crimes by year and type')\n",
    "plt.xticks(ind + width/2., years)\n",
    "plt.legend(types)"
   ]
  },
  {
   "cell_type": "code",
   "execution_count": null,
   "metadata": {
    "collapsed": true
   },
   "outputs": [],
   "source": []
  }
 ],
 "metadata": {
  "kernelspec": {
   "display_name": "Python 2",
   "language": "python",
   "name": "python2"
  },
  "language_info": {
   "codemirror_mode": {
    "name": "ipython",
    "version": 2
   },
   "file_extension": ".py",
   "mimetype": "text/x-python",
   "name": "python",
   "nbconvert_exporter": "python",
   "pygments_lexer": "ipython2",
   "version": "2.7.11"
  }
 },
 "nbformat": 4,
 "nbformat_minor": 0
}
